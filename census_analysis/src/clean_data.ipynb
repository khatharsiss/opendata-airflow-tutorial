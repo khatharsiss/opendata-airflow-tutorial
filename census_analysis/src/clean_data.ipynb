{
 "cells": [
  {
   "cell_type": "markdown",
   "metadata": {},
   "source": [
    "# Project 1: Digital Divide\n",
    "### Data Prep\n",
    "\n",
    "#### Based on PPIC's Just the Facts report [\"California's Digital Divide\"](https://www.ppic.org/publication/californias-digital-divide/)"
   ]
  },
  {
   "cell_type": "markdown",
   "metadata": {},
   "source": [
    "## Goal:\n",
    "* explore datafiles (`acsdata.data.gz`) and create a _working dataset_ from it."
   ]
  },
  {
   "cell_type": "markdown",
   "metadata": {},
   "source": [
    "## Context:\n",
    "Obtained American Community Survey (ACS) survey data from [IPUMS](https://usa.ipums.org/usa/). <br>\n",
    "It contains basic demographics:\n",
    "  - age\n",
    "  - gender\n",
    "  - race/ethnicity\n",
    "\n",
    "and geographic indicators:\n",
    "  - state\n",
    "  - county"
   ]
  },
  {
   "cell_type": "markdown",
   "metadata": {},
   "source": [
    "***"
   ]
  },
  {
   "cell_type": "markdown",
   "metadata": {},
   "source": [
    "#### Step 1: Set up your working environment.\n",
    "\n",
    "Import all necessary libraries and create `Path`s to your data directories. "
   ]
  },
  {
   "cell_type": "code",
   "execution_count": 8,
   "metadata": {},
   "outputs": [],
   "source": [
    "# setting up working environment\n",
    "import pandas as pd\n",
    "from pathlib import Path\n",
    "from datetime import datetime as dt\n",
    "\n",
    "today = dt.today().strftime(\"%d-%b-%y\")"
   ]
  },
  {
   "cell_type": "code",
   "execution_count": 2,
   "metadata": {},
   "outputs": [],
   "source": [
    "# data folder and paths\n",
    "RAW_DATA_PATH = Path(\"../data/raw/\")\n",
    "INTERIM_DATA_PATH = Path(\"../data/interim/\")\n",
    "PROCESSED_DATA_PATH = Path(\"../data/processed/\")\n",
    "FINAL_DATA_PATH = Path(\"../data/final/\")"
   ]
  },
  {
   "cell_type": "code",
   "execution_count": 3,
   "metadata": {},
   "outputs": [
    {
     "name": "stdout",
     "output_type": "stream",
     "text": [
      "../data/interim found, skipping\n",
      "../data/processed found, skipping\n",
      "../data/final found, skipping\n"
     ]
    }
   ],
   "source": [
    "# ensure the dirs exist\n",
    "import os \n",
    "\n",
    "def dir_exists(dir_path):\n",
    "    if not os.path.exists(dir_path):\n",
    "        os.makedirs(dir_path)\n",
    "    else:\n",
    "        print(f\"{dir_path} found, skipping\")\n",
    "    \n",
    "dir_exists(INTERIM_DATA_PATH)\n",
    "dir_exists(PROCESSED_DATA_PATH)\n",
    "dir_exists(FINAL_DATA_PATH)"
   ]
  },
  {
   "cell_type": "markdown",
   "metadata": {},
   "source": [
    "***"
   ]
  },
  {
   "cell_type": "markdown",
   "metadata": {},
   "source": [
    "#### Step 2: Load the data into a pandas dataframe"
   ]
  },
  {
   "cell_type": "code",
   "execution_count": 9,
   "metadata": {},
   "outputs": [],
   "source": [
    "data = pd.read_csv(RAW_DATA_PATH / 'acs_data.csv.gz')"
   ]
  },
  {
   "cell_type": "code",
   "execution_count": 10,
   "metadata": {},
   "outputs": [],
   "source": [
    "# import gzip and load data\n",
    "import gzip\n",
    "\n",
    "with gzip.open(RAW_DATA_PATH / 'acs_data.dta.gz') as file:\n",
    "    data = pd.read_stata(file)"
   ]
  },
  {
   "cell_type": "markdown",
   "metadata": {},
   "source": [
    "***"
   ]
  },
  {
   "cell_type": "markdown",
   "metadata": {},
   "source": [
    "#### Step 3: Save the info for the file"
   ]
  },
  {
   "cell_type": "code",
   "execution_count": 7,
   "metadata": {},
   "outputs": [
    {
     "data": {
      "text/html": [
       "<div>\n",
       "<style scoped>\n",
       "    .dataframe tbody tr th:only-of-type {\n",
       "        vertical-align: middle;\n",
       "    }\n",
       "\n",
       "    .dataframe tbody tr th {\n",
       "        vertical-align: top;\n",
       "    }\n",
       "\n",
       "    .dataframe thead th {\n",
       "        text-align: right;\n",
       "    }\n",
       "</style>\n",
       "<table border=\"1\" class=\"dataframe\">\n",
       "  <thead>\n",
       "    <tr style=\"text-align: right;\">\n",
       "      <th></th>\n",
       "      <th>serial</th>\n",
       "      <th>hhwt</th>\n",
       "      <th>countyfip</th>\n",
       "      <th>pernum</th>\n",
       "      <th>perwt</th>\n",
       "    </tr>\n",
       "  </thead>\n",
       "  <tbody>\n",
       "    <tr>\n",
       "      <td>count</td>\n",
       "      <td>3.190040e+06</td>\n",
       "      <td>3.190040e+06</td>\n",
       "      <td>3.190040e+06</td>\n",
       "      <td>3.190040e+06</td>\n",
       "      <td>3.190040e+06</td>\n",
       "    </tr>\n",
       "    <tr>\n",
       "      <td>mean</td>\n",
       "      <td>6.918400e+05</td>\n",
       "      <td>9.614892e+01</td>\n",
       "      <td>5.099185e+01</td>\n",
       "      <td>2.083905e+00</td>\n",
       "      <td>1.021050e+02</td>\n",
       "    </tr>\n",
       "    <tr>\n",
       "      <td>std</td>\n",
       "      <td>4.064117e+05</td>\n",
       "      <td>7.594648e+01</td>\n",
       "      <td>8.809394e+01</td>\n",
       "      <td>1.340533e+00</td>\n",
       "      <td>8.314945e+01</td>\n",
       "    </tr>\n",
       "    <tr>\n",
       "      <td>min</td>\n",
       "      <td>1.000000e+00</td>\n",
       "      <td>1.000000e+00</td>\n",
       "      <td>0.000000e+00</td>\n",
       "      <td>1.000000e+00</td>\n",
       "      <td>1.000000e+00</td>\n",
       "    </tr>\n",
       "    <tr>\n",
       "      <td>25%</td>\n",
       "      <td>3.350008e+05</td>\n",
       "      <td>5.100000e+01</td>\n",
       "      <td>0.000000e+00</td>\n",
       "      <td>1.000000e+00</td>\n",
       "      <td>5.300000e+01</td>\n",
       "    </tr>\n",
       "    <tr>\n",
       "      <td>50%</td>\n",
       "      <td>6.925320e+05</td>\n",
       "      <td>7.600000e+01</td>\n",
       "      <td>1.900000e+01</td>\n",
       "      <td>2.000000e+00</td>\n",
       "      <td>8.000000e+01</td>\n",
       "    </tr>\n",
       "    <tr>\n",
       "      <td>75%</td>\n",
       "      <td>1.047493e+06</td>\n",
       "      <td>1.170000e+02</td>\n",
       "      <td>7.300000e+01</td>\n",
       "      <td>3.000000e+00</td>\n",
       "      <td>1.240000e+02</td>\n",
       "    </tr>\n",
       "    <tr>\n",
       "      <td>max</td>\n",
       "      <td>1.394399e+06</td>\n",
       "      <td>2.401000e+03</td>\n",
       "      <td>8.100000e+02</td>\n",
       "      <td>2.000000e+01</td>\n",
       "      <td>2.401000e+03</td>\n",
       "    </tr>\n",
       "  </tbody>\n",
       "</table>\n",
       "</div>"
      ],
      "text/plain": [
       "             serial          hhwt     countyfip        pernum         perwt\n",
       "count  3.190040e+06  3.190040e+06  3.190040e+06  3.190040e+06  3.190040e+06\n",
       "mean   6.918400e+05  9.614892e+01  5.099185e+01  2.083905e+00  1.021050e+02\n",
       "std    4.064117e+05  7.594648e+01  8.809394e+01  1.340533e+00  8.314945e+01\n",
       "min    1.000000e+00  1.000000e+00  0.000000e+00  1.000000e+00  1.000000e+00\n",
       "25%    3.350008e+05  5.100000e+01  0.000000e+00  1.000000e+00  5.300000e+01\n",
       "50%    6.925320e+05  7.600000e+01  1.900000e+01  2.000000e+00  8.000000e+01\n",
       "75%    1.047493e+06  1.170000e+02  7.300000e+01  3.000000e+00  1.240000e+02\n",
       "max    1.394399e+06  2.401000e+03  8.100000e+02  2.000000e+01  2.401000e+03"
      ]
     },
     "execution_count": 7,
     "metadata": {},
     "output_type": "execute_result"
    }
   ],
   "source": [
    "data.describe()"
   ]
  },
  {
   "cell_type": "markdown",
   "metadata": {},
   "source": [
    "***"
   ]
  },
  {
   "cell_type": "markdown",
   "metadata": {},
   "source": [
    "#### Step 4: Trim your data\n",
    "\n",
    "Right now you're working with your **masterfile** - a dataset containing everything you _could_ need for your analysis. You don't really want to modify this dataset because you might be using it for other analyses. For example, we're going to be analyzing access to high-speed internet in a state of your choosing but next week you might want to run the same analysis on another state or maybe just on a specific county. To make sure you can **reuse** your data and code later let's create an _analytical file_ or a _working dataset_, a dataset that contains only the data needed for **this** specific analysis at hand."
   ]
  },
  {
   "cell_type": "code",
   "execution_count": 23,
   "metadata": {},
   "outputs": [],
   "source": [
    "mask_state = (data['statefip'] == 'ohio')\n",
    "state_data = data[mask_state].copy()"
   ]
  },
  {
   "cell_type": "code",
   "execution_count": 26,
   "metadata": {},
   "outputs": [],
   "source": [
    "# dropping the columns\n",
    "state_data.drop(columns = ['related', 'raced', 'hispand'], inplace=True)"
   ]
  },
  {
   "cell_type": "markdown",
   "metadata": {},
   "source": [
    "Because of this and the fact that most of our observations fall into the 1970 and 1990 definition, we'll stick to those 2 for our analysis."
   ]
  },
  {
   "cell_type": "code",
   "execution_count": 29,
   "metadata": {},
   "outputs": [],
   "source": [
    "mask_household = ( state_data['gq'] == 'households under 1970 definition' ) | ( state_data['gq'] == 'additional households under 1990 definition' )"
   ]
  },
  {
   "cell_type": "code",
   "execution_count": 30,
   "metadata": {},
   "outputs": [],
   "source": [
    "state_data = state_data[mask_household].copy()"
   ]
  },
  {
   "cell_type": "markdown",
   "metadata": {},
   "source": [
    "Our research question 1 is: \"What share of households in X state have access to high-speed internet?\"\n",
    "\n",
    "Mathematically, \n",
    "$$ \\frac{households\\ with\\ high\\ speed\\ internet}{households\\ in\\ state}$$\n",
    "\n",
    "Your `state_data` dataset contains all you need to find the answer. "
   ]
  },
  {
   "cell_type": "markdown",
   "metadata": {},
   "source": [
    "***"
   ]
  },
  {
   "cell_type": "markdown",
   "metadata": {},
   "source": [
    "### Step 5 save the data"
   ]
  },
  {
   "cell_type": "code",
   "execution_count": 32,
   "metadata": {},
   "outputs": [],
   "source": [
    "state_data.to_stata(INTERIM_DATA_PATH / f'state_data-{today}.dta', write_index = False)"
   ]
  }
 ],
 "metadata": {
  "kernelspec": {
   "display_name": "Python 3",
   "language": "python",
   "name": "python3"
  },
  "language_info": {
   "codemirror_mode": {
    "name": "ipython",
    "version": 3
   },
   "file_extension": ".py",
   "mimetype": "text/x-python",
   "name": "python",
   "nbconvert_exporter": "python",
   "pygments_lexer": "ipython3",
   "version": "3.7.3"
  }
 },
 "nbformat": 4,
 "nbformat_minor": 4
}
